{
 "cells": [
  {
   "cell_type": "code",
   "execution_count": 55,
   "metadata": {},
   "outputs": [],
   "source": [
    "import importlib\n",
    "from CASutils import lensread_utils as lens\n",
    "from CASutils import readdata_utils as read\n",
    "from CASutils import calendar_utils as cal\n",
    "from glob import glob\n",
    "import pandas as pd\n",
    "import numpy as np\n",
    "import xarray as xr\n",
    "import warnings\n",
    "import sys\n",
    "\n",
    "importlib.reload(lens)\n",
    "importlib.reload(read)\n",
    "importlib.reload(cal)\n",
    "\n",
    "warnings.filterwarnings('ignore')\n"
   ]
  },
  {
   "cell_type": "markdown",
   "metadata": {},
   "source": [
    "Set up member names and file locations"
   ]
  },
  {
   "cell_type": "code",
   "execution_count": 56,
   "metadata": {},
   "outputs": [],
   "source": [
    "nmems=50\n",
    "memstr = lens.lens2memnamegen(nmems)\n",
    "preccdir=\"/project/mojave/cesm2/LENS/atm/month_1/PRECC/\"\n",
    "precldir=\"/project/mojave/cesm2/LENS/atm/month_1/PRECL/\""
   ]
  },
  {
   "cell_type": "markdown",
   "metadata": {},
   "source": [
    "Set up dates required"
   ]
  },
  {
   "cell_type": "code",
   "execution_count": 57,
   "metadata": {},
   "outputs": [],
   "source": [
    "ybeg=1979 ; mbeg = 1 ; yend=2014 ; mend=12\n",
    "nmonths=(yend-ybeg-1)*12 + (12-mbeg+1) + mend\n",
    "datebeg = str(ybeg)+'-'+str(mbeg).zfill(2)\n",
    "dateend = str(yend)+'-'+str(mend).zfill(2)"
   ]
  },
  {
   "cell_type": "code",
   "execution_count": 58,
   "metadata": {},
   "outputs": [
    {
     "name": "stdout",
     "output_type": "stream",
     "text": [
      "0\n",
      "1\n",
      "2\n",
      "3\n",
      "4\n",
      "5\n",
      "6\n",
      "7\n",
      "8\n",
      "9\n",
      "10\n",
      "11\n",
      "12\n",
      "13\n",
      "14\n",
      "15\n",
      "16\n",
      "17\n",
      "18\n",
      "19\n",
      "20\n",
      "21\n",
      "22\n",
      "23\n",
      "24\n",
      "25\n",
      "26\n",
      "27\n",
      "28\n",
      "29\n",
      "30\n",
      "31\n",
      "32\n",
      "33\n",
      "34\n",
      "35\n",
      "36\n",
      "37\n",
      "38\n",
      "39\n",
      "40\n",
      "41\n",
      "42\n",
      "43\n",
      "44\n",
      "45\n",
      "46\n",
      "47\n",
      "48\n",
      "49\n"
     ]
    }
   ],
   "source": [
    "for imem in range(0,len(memstr),1):\n",
    "    \n",
    "    print(imem)\n",
    "    \n",
    "    # ----read in PRECC\n",
    "    fhist=preccdir+\"b.e21.BHISTcmip6.f09_g17.LE2-\"+memstr[imem]+\".cam.h0.PRECC.*.nc\"\n",
    "    precchist = read.read_sfc_cesm(fhist,datebeg,dateend)\n",
    "    \n",
    "    if (precchist.time.size != nmonths):\n",
    "        print(\"something's wrong.  nmonths=\"+str(nmonths)+\" but got \"+str(precchist.time.size))\n",
    "        sys.exit(\"Failed at PRECC for member \"+memstr[imem])\n",
    "    # ------------------\n",
    "        \n",
    "    # ----read in PRECL\n",
    "    fhist=precldir+\"b.e21.BHISTcmip6.f09_g17.LE2-\"+memstr[imem]+\".cam.h0.PRECL.*.nc\"\n",
    "    preclhist = read.read_sfc_cesm(fhist,\"1979-01\",\"2014-12\")\n",
    "    \n",
    "    if (preclhist.time.size != nmonths):\n",
    "        print(\"something's wrong.  nmonths=\"+str(nmonths)+\" but got \"+str(preclhist.time.size))\n",
    "        sys.exit(\"Failed at PRECL for member \"+memstr[imem])\n",
    "    # ------------------\n",
    "   \n",
    "    precthist=precchist['PRECC'] + preclhist['PRECL']\n",
    "    precthist = precthist.rename('PRECT')\n",
    "    precthist = precthist.to_dataset()\n",
    "    \n",
    "    prectdjf = cal.season_ts(precthist,'PRECT','DJF')\n",
    "    prectmam = cal.season_ts(precthist,'PRECT','MAM')\n",
    "    prectjja = cal.season_ts(precthist,'PRECT','JJA')\n",
    "    prectson = cal.season_ts(precthist,'PRECT','SON')\n",
    "    \n",
    "    if (imem == 0):\n",
    "        djfgather = xr.DataArray(np.zeros([nmems, prectdjf.time.size, prectdjf.lat.size, prectdjf.lon.size]),\n",
    "                                coords=[memstr, prectdjf['time'], prectdjf['lat'], prectdjf['lon']],\n",
    "                                dims = ['Member','time','lat','lon'], name='PRECTDJF')\n",
    "        \n",
    "        mamgather = xr.DataArray(np.zeros([nmems, prectmam.time.size, prectmam.lat.size, prectmam.lon.size]),\n",
    "                                coords=[memstr, prectmam['time'], prectmam['lat'], prectmam['lon']],\n",
    "                                dims = ['Member','time','lat','lon'], name='PRECTMAM')\n",
    "        \n",
    "        jjagather = xr.DataArray(np.zeros([nmems, prectjja.time.size, prectjja.lat.size, prectjja.lon.size]),\n",
    "                                coords=[memstr, prectjja['time'], prectjja['lat'], prectjja['lon']],\n",
    "                                dims = ['Member','time','lat','lon'], name='PRECTJJA')\n",
    "        \n",
    "        songather = xr.DataArray(np.zeros([nmems, prectson.time.size, prectson.lat.size, prectson.lon.size]),\n",
    "                                coords=[memstr, prectson['time'], prectson['lat'], prectson['lon']],\n",
    "                                dims = ['Member','time','lat','lon'], name='PRECTSON')\n",
    "        \n",
    "    djfgather[imem,:,:,:] = prectdjf*86400.*1000.\n",
    "    mamgather[imem,:,:,:] = prectmam*86400.*1000.\n",
    "    jjagather[imem,:,:,:] = prectjja*86400.*1000.\n",
    "    songather[imem,:,:,:] = prectson*86400.*1000.    "
   ]
  },
  {
   "cell_type": "code",
   "execution_count": 59,
   "metadata": {},
   "outputs": [],
   "source": [
    "outdir=\"/project/cas/islas/savs/drought/LENS2_vs_LENS1/outputdata/seasonalaverages/LENS2/\"\n",
    "\n",
    "djfgather.to_netcdf(path=outdir+\"pr_djf.nc\")\n",
    "mamgather.to_netcdf(path=outdir+\"pr_mam.nc\")\n",
    "jjagather.to_netcdf(path=outdir+\"pr_jja.nc\")\n",
    "songather.to_netcdf(path=outdir+\"pr_son.nc\")"
   ]
  }
 ],
 "metadata": {
  "kernelspec": {
   "display_name": "Python [conda env:ecpaperenv]",
   "language": "python",
   "name": "conda-env-ecpaperenv-py"
  },
  "language_info": {
   "codemirror_mode": {
    "name": "ipython",
    "version": 3
   },
   "file_extension": ".py",
   "mimetype": "text/x-python",
   "name": "python",
   "nbconvert_exporter": "python",
   "pygments_lexer": "ipython3",
   "version": "3.6.11"
  }
 },
 "nbformat": 4,
 "nbformat_minor": 4
}
