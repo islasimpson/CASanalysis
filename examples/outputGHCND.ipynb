{
 "cells": [
  {
   "cell_type": "markdown",
   "metadata": {},
   "source": [
    "### Script to output the TAVG variable from GHCN-Daily.\n",
    "### NH stations are chosen that have data between 1979 and 2014 are chosen.\n"
   ]
  },
  {
   "cell_type": "code",
   "execution_count": 1,
   "metadata": {},
   "outputs": [],
   "source": [
    "import xarray as xr\n",
    "import numpy as np\n",
    "import pandas as pd\n",
    "from math import nan\n",
    "import sys\n",
    "import matplotlib.pyplot as plt"
   ]
  },
  {
   "cell_type": "markdown",
   "metadata": {},
   "source": [
    "### Specify output path"
   ]
  },
  {
   "cell_type": "code",
   "execution_count": 12,
   "metadata": {},
   "outputs": [],
   "source": [
    "pathout=\"/project/cas/islas/python_savs/GHCND/\""
   ]
  },
  {
   "cell_type": "markdown",
   "metadata": {},
   "source": [
    "### Specify start year and end year for analysis.  Generate time axis for output and remove Feb 29th"
   ]
  },
  {
   "cell_type": "code",
   "execution_count": 2,
   "metadata": {},
   "outputs": [],
   "source": [
    "ystart=1979 ; yend=2014\n",
    "nyears=yend-ystart+1\n",
    "\n",
    "# setting up output calendar dates\n",
    "timeout = pd.date_range(start=str(ystart)+'-01-01',end=str(yend)+'-12-31')\n",
    "# remove Feb 29th\n",
    "timeout = timeout[~((timeout.month == 2) & (timeout.day == 29))]"
   ]
  },
  {
   "cell_type": "markdown",
   "metadata": {},
   "source": [
    "Reading in the station file (not really needed - the inventory is more useful)"
   ]
  },
  {
   "cell_type": "code",
   "execution_count": 3,
   "metadata": {},
   "outputs": [],
   "source": [
    "#statfile=\"/project/mojave/observations/GHCN-Daily/ghcnd-stations.txt\"\n",
    "#namestr=[0,11] ; latstr=[12,20] ; lonstr=[21,30]\n",
    "#f = open(statfile,\"r\")\n",
    "#name=[] ; lon=[] ; lat=[]\n",
    "#for line in f:\n",
    "#    lon.append(line[lonstr[0]:lonstr[1]])\n",
    "#    lat.append(line[latstr[0]:latstr[1]])\n",
    "#    name.append(line[namestr[0]:namestr[1]])\n",
    "#f.close()"
   ]
  },
  {
   "cell_type": "markdown",
   "metadata": {},
   "source": [
    "### Reading in the inventory "
   ]
  },
  {
   "cell_type": "code",
   "execution_count": 4,
   "metadata": {},
   "outputs": [],
   "source": [
    "invent = \"/project/mojave/observations/GHCN-Daily/ghcnd-inventory.txt\"\n",
    "namestr=[0,11] ; latstr=[12,20] ; lonstr=[21,30]\n",
    "varstr=[31,35] ; startstr=[36,40] ; endstr=[41,45] \n",
    "f = open(invent,\"r\")\n",
    "name=[] ; lon=[] ; lat=[] ; start=[] ; end=[]\n",
    "for line in f:\n",
    "    var=line[varstr[0]:varstr[1]]\n",
    "    if (var=='TAVG'):\n",
    "        name.append(line[namestr[0]:namestr[1]]) # station name\n",
    "        lat.append(line[latstr[0]:latstr[1]]) # station latitude\n",
    "        lon.append(line[lonstr[0]:lonstr[1]]) # station longitude\n",
    "        start.append(line[startstr[0]:startstr[1]]) # start year of station data\n",
    "        end.append(line[endstr[0]:endstr[1]]) # end year of station data\n",
    "        \n",
    "    "
   ]
  },
  {
   "cell_type": "code",
   "execution_count": 5,
   "metadata": {},
   "outputs": [],
   "source": [
    "dictstat=[{'name':name, 'lat':lat, 'lon':lon, 'start':start, 'end':end} for name, lat, lon, start, end in zip (name, lat, lon, start, end)]"
   ]
  },
  {
   "cell_type": "markdown",
   "metadata": {},
   "source": [
    "### Figure out the stations to use.  Here based on latitude and start and end year"
   ]
  },
  {
   "cell_type": "code",
   "execution_count": 6,
   "metadata": {},
   "outputs": [],
   "source": [
    "statuse=[]\n",
    "lonstation=[]\n",
    "latstation=[]\n",
    "for key in dictstat:\n",
    "    lonflt = float(key['lon'])\n",
    "    latflt = float(key['lat'])\n",
    "    name = key['name']\n",
    "    start = float(key['start'])\n",
    "    end = float(key['end'])\n",
    "    \n",
    "    if ( (latflt >=0.1) and (start <= ystart) and (end >= yend) ):\n",
    "        statuse.append(name)\n",
    "        lonstation.append(lonflt)\n",
    "        latstation.append(latflt)"
   ]
  },
  {
   "cell_type": "markdown",
   "metadata": {},
   "source": [
    "Generate dates for a non-leap year year"
   ]
  },
  {
   "cell_type": "markdown",
   "metadata": {},
   "source": [
    "### Specifying start day for each month and the number of years in each month"
   ]
  },
  {
   "cell_type": "code",
   "execution_count": 8,
   "metadata": {},
   "outputs": [],
   "source": [
    "daymonstart=[0,31,59,90,120,151,181,212,243,273,304,334]\n",
    "ndaysmon=[31,28,31,30,31,30,31,31,30,31,30,31]"
   ]
  },
  {
   "cell_type": "markdown",
   "metadata": {},
   "source": [
    "### Grab all the data"
   ]
  },
  {
   "cell_type": "code",
   "execution_count": null,
   "metadata": {},
   "outputs": [],
   "source": [
    "t2m = np.empty([len(statuse), nyears*365])\n",
    "t2m[:,:] = nan\n",
    "stationname=[]\n",
    "stationlon=[]\n",
    "stationlat=[]\n",
    "yearstr=[11,15]\n",
    "monstr=[15,17]\n",
    "varstr=[17,21]\n",
    "datastr=[21,269]\n",
    "\n",
    "\n",
    "\n",
    "countstations=0\n",
    "for istat in range(0, len(statuse),1):\n",
    "    print( str(istat)+':'+statuse[istat])\n",
    "    file=\"/project/mojave/observations/GHCN-Daily/ghcnd_all/\"+str(statuse[istat])+'.dly'\n",
    "    f= open(file,\"r\")\n",
    "    stationdat = np.zeros([nyears*365])*nan # initialize data array for this station with nans\n",
    "    for line in f:\n",
    "        var=line[varstr[0]:varstr[1]]\n",
    "\n",
    "        if (var == 'TAVG'): # pick out TAVG\n",
    "            year=line[yearstr[0]:yearstr[1]]\n",
    "            if ((float(year) >= ystart) and (float(year) <= yend)): # pick out data between ystart and yend\n",
    "                mon=line[monstr[0]:monstr[1]] # the month of data\n",
    "                data=line[datastr[0]:datastr[1]] # the data\n",
    "                days = [data[i*8:i*8+8] for i in np.arange(0,31,1)] # splitting up the data into those of individual days\n",
    "                datestrings = [mon+'-'+str(i+1).zfill(2) for i in np.arange(0,31,1)]\n",
    "                mflag = [days[i][5] for i in np.arange(0,31,1)] # getting the mflag\n",
    "                qflag = [days[i][6] for i in np.arange(0,31,1)] # getting the qflag\n",
    "                sflag = [days[i][7] for i in np.arange(0,31,1)] # getting the sflag\n",
    "                values = [days[i][1:5] for i in np.arange(0,31,1)] # getting the actual TAVG values\n",
    "                values_np = np.array(values) # converting to a numpy array\n",
    "                values_np = values_np.astype(np.float)\n",
    "                \n",
    "                # checking for missing data with the -9999 or 9999 values - set them to nans\n",
    "                values_np[(values_np.astype(int) < -9998) | (values_np.astype(int) > 9998)] = nan\n",
    "                \n",
    "                # removing any that fail the quality control flag\n",
    "                values_np[ np.array(qflag) != ' '] = nan\n",
    "                \n",
    "                imon = np.int(mon)-1\n",
    "                stationdat[(np.int(year)-ystart)*365 + daymonstart[imon]: (np.int(year)-ystart)*365 + daymonstart[imon] + ndaysmon[imon]] = values_np[0:ndaysmon[imon]]/10.\n",
    "                \n",
    "    numnans = len(stationdat[stationdat == nan])\n",
    "    if (numnans < 0.8*nyears*365): # only using stations that have data for at least 80% of the days\n",
    "        t2m[countstations,:] = stationdat\n",
    "        stationname.append(statuse[istat])\n",
    "        stationlon.append(lonstation[istat])\n",
    "        stationlat.append(latstation[istat])\n",
    "    \n",
    "    countstations = countstations+1 \n",
    "    \n",
    "t2m = t2m[0:countstations,:]\n",
    "stationname = stationname[0:countstations]\n",
    "stationlon = stationlon[0:countstations]\n",
    "stationlat = stationlat[0:countstations]"
   ]
  },
  {
   "cell_type": "markdown",
   "metadata": {},
   "source": [
    "### Converting to xarray data arrays"
   ]
  },
  {
   "cell_type": "code",
   "execution_count": 11,
   "metadata": {},
   "outputs": [],
   "source": [
    "t2m_xr = xr.DataArray(t2m, coords=[stationname, timeout], dims=['station','time'], name='t2m')\n",
    "station = xr.DataArray(stationname, coords=[stationname], dims=['station'], name='station')\n",
    "lon = xr.DataArray(stationlon, coords=[stationname], dims=['station'], name='lon')\n",
    "lat = xr.DataArray(stationlat, coords=[stationname], dims=['station'], name='lat')"
   ]
  },
  {
   "cell_type": "markdown",
   "metadata": {},
   "source": [
    "### Output the data"
   ]
  },
  {
   "cell_type": "code",
   "execution_count": 13,
   "metadata": {},
   "outputs": [],
   "source": [
    "t2m_xr.to_netcdf(pathout+\"T2m_GHCND_NH_1979_2014.nc\")\n",
    "station.to_netcdf(pathout+\"T2m_GHCND_NH_1979_2014.nc\", mode=\"a\")\n",
    "lon.to_netcdf(pathout+\"T2m_GHCND_NH_1979_2014.nc\", mode=\"a\")\n",
    "lat.to_netcdf(pathout+\"T2m_GHCND_NH_1979_2014.nc\", mode=\"a\")"
   ]
  },
  {
   "cell_type": "code",
   "execution_count": null,
   "metadata": {},
   "outputs": [],
   "source": []
  }
 ],
 "metadata": {
  "kernelspec": {
   "display_name": "Python [conda env:ecpaperenv]",
   "language": "python",
   "name": "conda-env-ecpaperenv-py"
  },
  "language_info": {
   "codemirror_mode": {
    "name": "ipython",
    "version": 3
   },
   "file_extension": ".py",
   "mimetype": "text/x-python",
   "name": "python",
   "nbconvert_exporter": "python",
   "pygments_lexer": "ipython3",
   "version": "3.6.11"
  }
 },
 "nbformat": 4,
 "nbformat_minor": 4
}
