{
 "cells": [
  {
   "cell_type": "code",
   "execution_count": null,
   "metadata": {},
   "outputs": [],
   "source": [
    "import xarray as xr\n",
    "import numpy as np\n",
    "import matplotlib.pyplot as plt\n",
    "import pandas as pd\n",
    "from math import nan"
   ]
  },
  {
   "cell_type": "code",
   "execution_count": null,
   "metadata": {},
   "outputs": [],
   "source": [
    "filepath=\"/project/haggis/ERA5/mon/Qfluxes/\"\n",
    "dat = xr.open_mfdataset(filepath+\"Qfluxes*.nc\")\n",
    "dat = dat.sel(time=slice(\"1980-01\",\"2020-12\"))\n",
    "\n",
    "dp = xr.DataArray(np.zeros([dat.time.size, dat.level.size, dat.lat.size, dat.lon.size]),\n",
    "                 coords=dat.Q.coords, dims=dat.Q.dims, name='dp')\n",
    "dp[:,0,:,:] = dat.level.isel(level=0)-0 + (dat.level.isel(level=1) - dat.level.isel(level=0))/2.\n",
    "for ip in np.arange(1, dat.level.size-1,1):\n",
    "    dp[:,ip,:,:] = ( (dat.level.isel(level=ip)-dat.level.isel(level=ip-1))/2. + (dat.level.isel(level=ip+1)-dat.level.isel(level=ip))/2. )\n",
    "dp[:,dat.level.size-1,:,:] = (dat.level.isel(level=dat.level.size-1) - dat.level.isel(level=dat.level.size-2))/2.\n",
    "\n",
    "# set levels below the surface to NaNs\n",
    "dp = dp.where( dat.ps > dat.level*100, nan)\n",
    "dp = dp.load()\n",
    "\n",
    "minps = np.min(dat.ps)\n",
    "levdif = dat.level*100. - np.array(minps)\n",
    "levminsearch = np.max(np.argwhere(np.array(levdif) < 0))\n",
    "\n",
    "for ilev in np.arange(levminsearch, dat.level.size,1):\n",
    "    dp1d = dp.isel(level=ilev)\n",
    "    dp1d = dp1d.load()\n",
    "    if (ilev == dp.level.size-1):\n",
    "        dp1d = dp1d.where( xr.ufuncs.isnan(dp.isel(level=ilev)),\n",
    "                         (dp.level.isel(level=ilev)-dp.level.isel(level=ilev-1))/2. + (dat.ps/100.) - dp.level.isel(level=ilev))\n",
    "    else:\n",
    "        dp1d = dp1d.where( ~(xr.ufuncs.isnan(dp.isel(level=ilev+1)) & xr.ufuncs.isfinite(dp.isel(level=ilev))),\n",
    "                         (dp.level.isel(level=ilev)-dp.level.isel(level=ilev-1))/2. + dat.ps/100. - dp.level.isel(level=ilev))\n",
    "    dp[:,ilev,:,:] = dp1d\n",
    "    \n",
    "uqdp = dp*dat.uq\n",
    "vqdp = dp*dat.vq\n",
    "qdp = dp*dat.Q\n",
    "\n",
    "uqdpsum = uqdp.sum(dim='level', skipna=True)\n",
    "vqdpsum = vqdp.sum(dim='level', skipna=True)\n",
    "qdpsum = qdp.sum(dim='level', skipna=True)\n",
    "\n",
    "uqdpsum = uqdpsum.load()\n",
    "vqdpsum = vqdpsum.load()\n",
    "qdpsum = qdpsum.load()"
   ]
  },
  {
   "cell_type": "code",
   "execution_count": null,
   "metadata": {},
   "outputs": [],
   "source": [
    "latrad = (dat.lat/180.)*np.pi\n",
    "lonrad = (dat.lon/180.)*np.pi\n",
    "a = 6.371e6\n",
    "\n",
    "latradarray = np.tile(latrad,qdp.time.size*qdp.lon.size)\n",
    "latradarray = np.reshape(latradarray,[qdp.time.size, qdp.lon.size, qdp.lat.size])\n",
    "latradarray = np.moveaxis(latradarray, 1, 2)\n",
    "\n",
    "duqdx = (1./(a*np.cos(latradarray)))*np.gradient(uqdpsum, lonrad, axis=2)\n",
    "dvqdy = (1./(a*np.cos(latradarray)))*np.gradient(vqdpsum*np.cos(latradarray), latrad, axis=1)\n",
    "\n",
    "q_flux_conv = (-1.*duqdx -dvqdy)*(100./(1000.*9.8))*86400.*1000.\n",
    "q_flux_conv = xr.DataArray(q_flux_conv, coords=[dat.Q.time, dat.Q.lat, dat.Q.lon], dims=['time','lat','lon'], name='q_flux_conv')\n",
    "q_flux_conv = q_flux_conv.where(np.abs(q_flux_conv) < 1e10, nan)\n",
    "q_flux_conv = q_flux_conv.load()\n",
    "q_flux_conv_clim = q_flux_conv.mean('time').load()\n",
    "q_flux_conv_clim = q_flux_conv_clim.where( np.abs(q_flux_conv_clim) < 1e5,nan)"
   ]
  }
 ],
 "metadata": {
  "kernelspec": {
   "display_name": "Python [conda env:ecpaperenv]",
   "language": "python",
   "name": "conda-env-ecpaperenv-py"
  },
  "language_info": {
   "codemirror_mode": {
    "name": "ipython",
    "version": 3
   },
   "file_extension": ".py",
   "mimetype": "text/x-python",
   "name": "python",
   "nbconvert_exporter": "python",
   "pygments_lexer": "ipython3",
   "version": "3.6.11"
  }
 },
 "nbformat": 4,
 "nbformat_minor": 4
}
