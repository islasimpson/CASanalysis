{
 "cells": [
  {
   "cell_type": "markdown",
   "metadata": {},
   "source": [
    "This script outputs daily 2m temperature data from ERA5 on the CESM grid.  It grabs hourly data on the 0.25 degree grid from the RDA on glade. Calculates the daily average and then regrids onto the CESM grid before renaming the vars and outputting to netcdf. \n",
    "\n",
    "The T2m data on the RDA is located at \n",
    "/gpfs/fs1/collections/rda/data/ds633.0/e5.oper.an.sfc/"
   ]
  },
  {
   "cell_type": "code",
   "execution_count": 1,
   "metadata": {},
   "outputs": [],
   "source": [
    "import xarray as xr\n",
    "import sys\n",
    "import pandas as pd\n",
    "import numpy as np\n",
    "import xesmf as xe\n",
    "import warnings\n",
    "import dask\n",
    "\n",
    "warnings.filterwarnings('ignore')"
   ]
  },
  {
   "cell_type": "code",
   "execution_count": 3,
   "metadata": {},
   "outputs": [],
   "source": [
    "# get the workers going\n",
    "ncores = 36\n",
    "nmem = str(int(365*ncores/36))+'GB'\n",
    "from dask_jobqueue import SLURMCluster\n",
    "from dask.distributed import Client\n",
    "cluster = SLURMCluster(cores=ncores,\n",
    "                     processes=ncores, memory=nmem,\n",
    "                     project='P04010022',\n",
    "                     walltime='2:00:00')\n",
    "cluster.scale(ncores)\n",
    "client = Client(cluster)"
   ]
  },
  {
   "cell_type": "code",
   "execution_count": 7,
   "metadata": {},
   "outputs": [
    {
     "data": {
      "text/html": [
       "<table style=\"border: 2px solid white;\">\n",
       "<tr>\n",
       "<td style=\"vertical-align: top; border: 0px solid white\">\n",
       "<h3 style=\"text-align: left;\">Client</h3>\n",
       "<ul style=\"text-align: left; list-style: none; margin: 0; padding: 0;\">\n",
       "  <li><b>Scheduler: </b>tcp://10.12.205.30:33126</li>\n",
       "  <li><b>Dashboard: </b><a href='http://10.12.205.30/proxy/39609/status' target='_blank'>http://10.12.205.30/proxy/39609/status</a></li>\n",
       "</ul>\n",
       "</td>\n",
       "<td style=\"vertical-align: top; border: 0px solid white\">\n",
       "<h3 style=\"text-align: left;\">Cluster</h3>\n",
       "<ul style=\"text-align: left; list-style:none; margin: 0; padding: 0;\">\n",
       "  <li><b>Workers: </b>36</li>\n",
       "  <li><b>Cores: </b>36</li>\n",
       "  <li><b>Memory: </b>365.04 GB</li>\n",
       "</ul>\n",
       "</td>\n",
       "</tr>\n",
       "</table>"
      ],
      "text/plain": [
       "<Client: 'tcp://10.12.205.30:33126' processes=36 threads=36, memory=365.04 GB>"
      ]
     },
     "execution_count": 7,
     "metadata": {},
     "output_type": "execute_result"
    }
   ],
   "source": [
    "# do this until you see you've got some workers\n",
    "client"
   ]
  },
  {
   "cell_type": "code",
   "execution_count": 5,
   "metadata": {},
   "outputs": [],
   "source": [
    "# location of ERA5 data on RDA\n",
    "filepath=\"/gpfs/fs1/collections/rda/data/ds633.0/e5.oper.an.sfc/\"\n",
    "# output location\n",
    "outpath=\"/glade/scratch/islas/processed/era5/T2m_day/\""
   ]
  },
  {
   "cell_type": "code",
   "execution_count": 13,
   "metadata": {},
   "outputs": [],
   "source": [
    "ystart=1981 ; yend=2019 ; nyears=yend-ystart+1"
   ]
  },
  {
   "cell_type": "code",
   "execution_count": 9,
   "metadata": {},
   "outputs": [],
   "source": [
    "# open up CESM data to get the output grid.\n",
    "cesmdat = xr.open_dataset(\"/glade/campaign/cesm/collections/cesmLE/CESM-CAM5-BGC-LE/atm/proc/tseries/monthly/PHIS/f.e11.F1850C5CNTVSST.f09_f09.002.cam.h0.PHIS.040101-050012.nc\")\n",
    "grid_out = xr.Dataset({'lat': (['lat'], cesmdat.lat)}, {'lon': (['lon'], cesmdat.lon)})"
   ]
  },
  {
   "cell_type": "code",
   "execution_count": null,
   "metadata": {},
   "outputs": [],
   "source": [
    "reusewgt=False\n",
    "wgtfile=outpath+\"wgtfile.nc\"\n",
    "for iyear in range(ystart,yend+1,1):\n",
    "    print(iyear)\n",
    "    timeout = pd.date_range(start = str(iyear)+\"-01-01\", end = str(iyear)+\"-12-31\")\n",
    "    outfile=outpath+\"t2m_\"+str(iyear)+\".nc\"\n",
    "    \n",
    "    countdays=0\n",
    "    for imon in range(1,12+1,1):\n",
    "        monstr=str(imon).zfill(2)\n",
    "        file=filepath+\"/\"+str(iyear)+monstr+\"/*_2t*.nc\"\n",
    "        print(file)\n",
    "        data = xr.open_mfdataset(file,coords=\"minimal\", join=\"override\",\n",
    "                             decode_times=True, use_cftime=True, chunks = {'time':24} )\n",
    "        dataday = data.groupby('time.dayofyear').mean('time')\n",
    "        dataday = dataday.rename(longitude=\"lon\")\n",
    "        dataday = dataday.rename(latitude=\"lat\")\n",
    "\n",
    "        regridder = xe.Regridder(dataday, grid_out, 'bilinear', periodic=True, reuse_weights=reusewgt, filename=wgtfile)\n",
    "        dataday_rg = regridder(dataday.VAR_2T)\n",
    "        \n",
    "        if (imon == 1):\n",
    "            t2m = dataday_rg\n",
    "        else:\n",
    "            t2m = xr.concat([t2m,dataday_rg], dim=\"dayofyear\", join=\"override\")\n",
    "        \n",
    "    t2m = t2m.assign_coords(dayofyear=timeout)\n",
    "    t2m = t2m.rename(dayofyear=\"time\")\n",
    "    t2m = t2m.rename(\"t2m\")\n",
    "    t2m.to_netcdf(path=outfile)\n",
    "    \n",
    "    reusewgt=True"
   ]
  }
 ],
 "metadata": {
  "kernelspec": {
   "display_name": "Python [conda env:ecpaperenv]",
   "language": "python",
   "name": "conda-env-ecpaperenv-py"
  },
  "language_info": {
   "codemirror_mode": {
    "name": "ipython",
    "version": 3
   },
   "file_extension": ".py",
   "mimetype": "text/x-python",
   "name": "python",
   "nbconvert_exporter": "python",
   "pygments_lexer": "ipython3",
   "version": "3.6.11"
  }
 },
 "nbformat": 4,
 "nbformat_minor": 4
}
