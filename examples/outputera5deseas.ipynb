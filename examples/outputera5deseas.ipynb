{
 "cells": [
  {
   "cell_type": "code",
   "execution_count": 1,
   "metadata": {},
   "outputs": [
    {
     "data": {
      "text/plain": [
       "<module 'CASutils.calendar_utils' from '/home/islas/python/CASanalysis/CASutils/calendar_utils.py'>"
      ]
     },
     "execution_count": 1,
     "metadata": {},
     "output_type": "execute_result"
    }
   ],
   "source": [
    "import importlib\n",
    "import xarray as xr\n",
    "import numpy as np\n",
    "import pandas as pd\n",
    "\n",
    "from CASutils import filter_utils as filt \n",
    "from CASutils import readdata_utils as read\n",
    "from CASutils import calendar_utils as cal\n",
    "import sys\n",
    "\n",
    "importlib.reload(filt)\n",
    "importlib.reload(read)\n",
    "importlib.reload(cal)"
   ]
  },
  {
   "cell_type": "markdown",
   "metadata": {},
   "source": [
    "Reading in the data"
   ]
  },
  {
   "cell_type": "code",
   "execution_count": 2,
   "metadata": {},
   "outputs": [],
   "source": [
    "path=\"/project/mojave/observations/ERA5_daily/T2m/\"\n",
    "dat = read.read_sfc(path+\"*.nc\",\"1979-01-01\", \"2014-12-31\")"
   ]
  },
  {
   "cell_type": "markdown",
   "metadata": {},
   "source": [
    "Removing Feb 29th"
   ]
  },
  {
   "cell_type": "code",
   "execution_count": 10,
   "metadata": {},
   "outputs": [],
   "source": [
    "dat = dat.sel(time=~((dat.time.dt.month==2) & (dat.time.dt.day == 29)))"
   ]
  },
  {
   "cell_type": "markdown",
   "metadata": {},
   "source": [
    "Removing the seasonal cycle (first 4 harmonics of the seasonally varying climatology)"
   ]
  },
  {
   "cell_type": "code",
   "execution_count": 13,
   "metadata": {},
   "outputs": [],
   "source": [
    "# make an array of the form mon-day for each timestamp.  This is needed for grouping the days of the years properly\n",
    "# now that we've removed Feb 29th\n",
    "daystr = xr.DataArray(dat.indexes['time'].strftime('%m-%d'), coords = dat.time.coords, name=\"daystr\")\n",
    "\n",
    "# Calculate the climatology for each day\n",
    "datseason = dat.t2m.groupby(daystr).mean('time')\n",
    "\n",
    "# calculate the seasonal cycle as the first 4 harmonics of the seasonal cycle\n",
    "t2m4harm = filt.calc_season_nharm(datseason, 4, dimtime=0)\n",
    "\n",
    "# remove that seasonal cycle\n",
    "anoms = dat.t2m.groupby(daystr)-t2m4harm\n",
    "\n",
    "# this is where I'm removing the seasonal mean but you don't have to do that.  Commented out for now.\n",
    "#djfanoms = cal.group_season_daily(anoms,'DJF')\n",
    "#djfmean = djfanoms.mean('day')\n",
    "#djfanoms = djfanoms - djfmean"
   ]
  },
  {
   "cell_type": "markdown",
   "metadata": {},
   "source": [
    "Calculate the variance"
   ]
  },
  {
   "cell_type": "code",
   "execution_count": 16,
   "metadata": {},
   "outputs": [],
   "source": [
    "era5var = np.var(djfanoms, axis=(0,1))\n",
    "era5var = era5var.rename('era5var')"
   ]
  },
  {
   "cell_type": "code",
   "execution_count": 17,
   "metadata": {},
   "outputs": [],
   "source": [
    "era5var.to_netcdf(path=\"/project/cas/islas/savs/python/snowpaper/DATA_SORT/deseasonalized_tvar/TVAR_ERA5.nc\")"
   ]
  },
  {
   "cell_type": "code",
   "execution_count": null,
   "metadata": {},
   "outputs": [],
   "source": []
  }
 ],
 "metadata": {
  "kernelspec": {
   "display_name": "Python [conda env:ecpaperenv]",
   "language": "python",
   "name": "conda-env-ecpaperenv-py"
  },
  "language_info": {
   "codemirror_mode": {
    "name": "ipython",
    "version": 3
   },
   "file_extension": ".py",
   "mimetype": "text/x-python",
   "name": "python",
   "nbconvert_exporter": "python",
   "pygments_lexer": "ipython3",
   "version": "3.6.11"
  }
 },
 "nbformat": 4,
 "nbformat_minor": 4
}
